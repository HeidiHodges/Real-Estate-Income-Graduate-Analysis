{
 "cells": [
  {
   "cell_type": "markdown",
   "id": "a83a0d84",
   "metadata": {},
   "source": [
    "# Contents\n",
    "1. Import Libraries and Data, Cleanup\n",
    "2. Subsetting Income Classes"
   ]
  },
  {
   "cell_type": "markdown",
   "id": "4d842b03",
   "metadata": {},
   "source": [
    "# 1. Import Libraries and Data, Cleanup"
   ]
  },
  {
   "cell_type": "code",
   "execution_count": 1,
   "id": "81b2a9ca",
   "metadata": {},
   "outputs": [],
   "source": [
    "import pandas as pd\n",
    "import numpy as np\n",
    "import os\n",
    "import matplotlib.pyplot as plt\n",
    "import seaborn as sns\n",
    "import scipy\n",
    "\n",
    "# define path\n",
    "path = r'C:\\Users\\heidi\\Desktop\\Analyses\\A6 Data Project'"
   ]
  },
  {
   "cell_type": "code",
   "execution_count": 2,
   "id": "3f3ee323",
   "metadata": {},
   "outputs": [],
   "source": [
    "# This command propts matplotlib visuals to appear in the notebook \n",
    "\n",
    "%matplotlib inline"
   ]
  },
  {
   "cell_type": "code",
   "execution_count": 3,
   "id": "0c806a9d",
   "metadata": {},
   "outputs": [],
   "source": [
    "#import csv\n",
    "real = pd.read_csv(os.path.join(path, '02 Data', 'Prepared Data', 'real.5.1.22.csv'), index_col = False)"
   ]
  },
  {
   "cell_type": "code",
   "execution_count": 4,
   "id": "9c7044f1",
   "metadata": {},
   "outputs": [
    {
     "data": {
      "text/html": [
       "<div>\n",
       "<style scoped>\n",
       "    .dataframe tbody tr th:only-of-type {\n",
       "        vertical-align: middle;\n",
       "    }\n",
       "\n",
       "    .dataframe tbody tr th {\n",
       "        vertical-align: top;\n",
       "    }\n",
       "\n",
       "    .dataframe thead th {\n",
       "        text-align: right;\n",
       "    }\n",
       "</style>\n",
       "<table border=\"1\" class=\"dataframe\">\n",
       "  <thead>\n",
       "    <tr style=\"text-align: right;\">\n",
       "      <th></th>\n",
       "      <th>Unnamed: 0</th>\n",
       "      <th>state</th>\n",
       "      <th>city</th>\n",
       "      <th>type</th>\n",
       "      <th>lat</th>\n",
       "      <th>lng</th>\n",
       "      <th>pop</th>\n",
       "      <th>male_pop</th>\n",
       "      <th>female_pop</th>\n",
       "      <th>rent_mean</th>\n",
       "      <th>income_mean</th>\n",
       "      <th>mort_exp_mean</th>\n",
       "      <th>expenses_mean</th>\n",
       "      <th>hs_degree</th>\n",
       "      <th>hs_degree_male</th>\n",
       "      <th>hs_degree_female</th>\n",
       "      <th>male_age_mean</th>\n",
       "      <th>female_age_mean</th>\n",
       "      <th>pct_own</th>\n",
       "      <th>rent_cost</th>\n",
       "    </tr>\n",
       "  </thead>\n",
       "  <tbody>\n",
       "    <tr>\n",
       "      <th>0</th>\n",
       "      <td>0</td>\n",
       "      <td>Alaska</td>\n",
       "      <td>Unalaska</td>\n",
       "      <td>City</td>\n",
       "      <td>53.621091</td>\n",
       "      <td>-166.770979</td>\n",
       "      <td>4619</td>\n",
       "      <td>2725</td>\n",
       "      <td>1894</td>\n",
       "      <td>1366.24657</td>\n",
       "      <td>107394.63090</td>\n",
       "      <td>2266.225620</td>\n",
       "      <td>840.67205</td>\n",
       "      <td>0.82841</td>\n",
       "      <td>0.82784</td>\n",
       "      <td>0.82940</td>\n",
       "      <td>38.45838</td>\n",
       "      <td>32.78177</td>\n",
       "      <td>0.25053</td>\n",
       "      <td>medium</td>\n",
       "    </tr>\n",
       "    <tr>\n",
       "      <th>1</th>\n",
       "      <td>1</td>\n",
       "      <td>Alaska</td>\n",
       "      <td>Eagle River</td>\n",
       "      <td>City</td>\n",
       "      <td>61.174250</td>\n",
       "      <td>-149.284329</td>\n",
       "      <td>3727</td>\n",
       "      <td>1780</td>\n",
       "      <td>1947</td>\n",
       "      <td>2347.69441</td>\n",
       "      <td>136547.39120</td>\n",
       "      <td>2485.107770</td>\n",
       "      <td>712.33066</td>\n",
       "      <td>0.94090</td>\n",
       "      <td>0.97253</td>\n",
       "      <td>0.91503</td>\n",
       "      <td>37.26216</td>\n",
       "      <td>38.97956</td>\n",
       "      <td>0.94989</td>\n",
       "      <td>high</td>\n",
       "    </tr>\n",
       "    <tr>\n",
       "      <th>2</th>\n",
       "      <td>2</td>\n",
       "      <td>Alaska</td>\n",
       "      <td>Jber</td>\n",
       "      <td>City</td>\n",
       "      <td>61.284745</td>\n",
       "      <td>-149.653973</td>\n",
       "      <td>8736</td>\n",
       "      <td>5166</td>\n",
       "      <td>3570</td>\n",
       "      <td>2071.30766</td>\n",
       "      <td>69361.23167</td>\n",
       "      <td>1631.830383</td>\n",
       "      <td>525.89101</td>\n",
       "      <td>0.99097</td>\n",
       "      <td>0.99661</td>\n",
       "      <td>0.98408</td>\n",
       "      <td>21.96291</td>\n",
       "      <td>22.20427</td>\n",
       "      <td>0.00759</td>\n",
       "      <td>high</td>\n",
       "    </tr>\n",
       "    <tr>\n",
       "      <th>3</th>\n",
       "      <td>3</td>\n",
       "      <td>Alaska</td>\n",
       "      <td>Anchorage</td>\n",
       "      <td>City</td>\n",
       "      <td>61.229560</td>\n",
       "      <td>-149.893037</td>\n",
       "      <td>1941</td>\n",
       "      <td>892</td>\n",
       "      <td>1049</td>\n",
       "      <td>943.79086</td>\n",
       "      <td>66790.89936</td>\n",
       "      <td>2289.791860</td>\n",
       "      <td>491.86501</td>\n",
       "      <td>0.89274</td>\n",
       "      <td>0.94301</td>\n",
       "      <td>0.84871</td>\n",
       "      <td>35.81912</td>\n",
       "      <td>37.00750</td>\n",
       "      <td>0.20247</td>\n",
       "      <td>medium</td>\n",
       "    </tr>\n",
       "    <tr>\n",
       "      <th>4</th>\n",
       "      <td>4</td>\n",
       "      <td>Alaska</td>\n",
       "      <td>Anchorage</td>\n",
       "      <td>City</td>\n",
       "      <td>61.217082</td>\n",
       "      <td>-149.767214</td>\n",
       "      <td>5981</td>\n",
       "      <td>3076</td>\n",
       "      <td>2905</td>\n",
       "      <td>1372.84472</td>\n",
       "      <td>76752.81635</td>\n",
       "      <td>1904.164100</td>\n",
       "      <td>681.80199</td>\n",
       "      <td>0.95351</td>\n",
       "      <td>0.96060</td>\n",
       "      <td>0.94669</td>\n",
       "      <td>34.13110</td>\n",
       "      <td>34.96611</td>\n",
       "      <td>0.56936</td>\n",
       "      <td>medium</td>\n",
       "    </tr>\n",
       "  </tbody>\n",
       "</table>\n",
       "</div>"
      ],
      "text/plain": [
       "   Unnamed: 0   state         city  type        lat         lng   pop  \\\n",
       "0           0  Alaska     Unalaska  City  53.621091 -166.770979  4619   \n",
       "1           1  Alaska  Eagle River  City  61.174250 -149.284329  3727   \n",
       "2           2  Alaska         Jber  City  61.284745 -149.653973  8736   \n",
       "3           3  Alaska    Anchorage  City  61.229560 -149.893037  1941   \n",
       "4           4  Alaska    Anchorage  City  61.217082 -149.767214  5981   \n",
       "\n",
       "   male_pop  female_pop   rent_mean   income_mean  mort_exp_mean  \\\n",
       "0      2725        1894  1366.24657  107394.63090    2266.225620   \n",
       "1      1780        1947  2347.69441  136547.39120    2485.107770   \n",
       "2      5166        3570  2071.30766   69361.23167    1631.830383   \n",
       "3       892        1049   943.79086   66790.89936    2289.791860   \n",
       "4      3076        2905  1372.84472   76752.81635    1904.164100   \n",
       "\n",
       "   expenses_mean  hs_degree  hs_degree_male  hs_degree_female  male_age_mean  \\\n",
       "0      840.67205    0.82841         0.82784           0.82940       38.45838   \n",
       "1      712.33066    0.94090         0.97253           0.91503       37.26216   \n",
       "2      525.89101    0.99097         0.99661           0.98408       21.96291   \n",
       "3      491.86501    0.89274         0.94301           0.84871       35.81912   \n",
       "4      681.80199    0.95351         0.96060           0.94669       34.13110   \n",
       "\n",
       "   female_age_mean  pct_own rent_cost  \n",
       "0         32.78177  0.25053    medium  \n",
       "1         38.97956  0.94989      high  \n",
       "2         22.20427  0.00759      high  \n",
       "3         37.00750  0.20247    medium  \n",
       "4         34.96611  0.56936    medium  "
      ]
     },
     "execution_count": 4,
     "metadata": {},
     "output_type": "execute_result"
    }
   ],
   "source": [
    "real.head()"
   ]
  },
  {
   "cell_type": "code",
   "execution_count": 5,
   "id": "e831fb7d",
   "metadata": {},
   "outputs": [
    {
     "name": "stdout",
     "output_type": "stream",
     "text": [
      "<class 'pandas.core.frame.DataFrame'>\n",
      "RangeIndex: 39030 entries, 0 to 39029\n",
      "Data columns (total 13 columns):\n",
      " #   Column         Non-Null Count  Dtype  \n",
      "---  ------         --------------  -----  \n",
      " 0   state          39030 non-null  object \n",
      " 1   city           39030 non-null  object \n",
      " 2   type           39030 non-null  object \n",
      " 3   lat            39030 non-null  float64\n",
      " 4   lng            39030 non-null  float64\n",
      " 5   pop            39030 non-null  int64  \n",
      " 6   rent_mean      39030 non-null  float64\n",
      " 7   income_mean    39030 non-null  float64\n",
      " 8   mort_exp_mean  39030 non-null  float64\n",
      " 9   expenses_mean  39030 non-null  float64\n",
      " 10  hs_degree      39030 non-null  float64\n",
      " 11  pct_own        39030 non-null  float64\n",
      " 12  rent_cost      38568 non-null  object \n",
      "dtypes: float64(8), int64(1), object(4)\n",
      "memory usage: 3.9+ MB\n"
     ]
    }
   ],
   "source": [
    "#drop unneeded columns\n",
    "real2 = real.drop(columns = ['Unnamed: 0', 'male_pop', 'female_pop', 'hs_degree_male', 'hs_degree_female', 'male_age_mean', 'female_age_mean'])\n",
    "real2.info()"
   ]
  },
  {
   "cell_type": "markdown",
   "id": "044301f1",
   "metadata": {},
   "source": [
    "# 2. Subset by Income Class"
   ]
  },
  {
   "cell_type": "code",
   "execution_count": 6,
   "id": "32974dca",
   "metadata": {},
   "outputs": [],
   "source": [
    "# define categories: according to https://www.investopedia.com, in 2017 lower class would be defined as earning below 42,000$\n",
    "real2.loc[real2['income_mean'] <= 42000, 'income_class'] = 'low'"
   ]
  },
  {
   "cell_type": "code",
   "execution_count": 7,
   "id": "7fb2f58a",
   "metadata": {},
   "outputs": [],
   "source": [
    "# according to https://www.investopedia.com, in 2017 middle class would be defined as earning between 42,000$ and 126,000$\n",
    "real2.loc[(real2['income_mean'] > 42001) & (real2['income_mean'] < 126000), 'income_class'] = 'medium'"
   ]
  },
  {
   "cell_type": "code",
   "execution_count": 8,
   "id": "442137fd",
   "metadata": {},
   "outputs": [],
   "source": [
    "# according to https://www.investopedia.com, in 2017 upper class would be defined as anything above 126,000$\n",
    "real2.loc[real2['income_mean'] >= 126000, 'income_class'] = 'upper'"
   ]
  },
  {
   "cell_type": "code",
   "execution_count": 9,
   "id": "23d5439a",
   "metadata": {},
   "outputs": [
    {
     "data": {
      "text/plain": [
       "medium    31124\n",
       "low        5660\n",
       "upper      2246\n",
       "Name: income_class, dtype: int64"
      ]
     },
     "execution_count": 9,
     "metadata": {},
     "output_type": "execute_result"
    }
   ],
   "source": [
    "real2['income_class'].value_counts(dropna = False)"
   ]
  },
  {
   "cell_type": "code",
   "execution_count": 11,
   "id": "c98fa290",
   "metadata": {},
   "outputs": [
    {
     "data": {
      "text/plain": [
       "California              4193\n",
       "Texas                   2767\n",
       "New York                2565\n",
       "Florida                 2289\n",
       "Pennsylvania            1735\n",
       "Illinois                1593\n",
       "Ohio                    1538\n",
       "Michigan                1463\n",
       "North Carolina          1167\n",
       "Georgia                 1078\n",
       "New Jersey              1009\n",
       "Virginia                1006\n",
       "Washington               806\n",
       "Indiana                  802\n",
       "Arizona                  798\n",
       "Tennessee                792\n",
       "Massachusetts            777\n",
       "Maryland                 764\n",
       "Missouri                 732\n",
       "Wisconsin                732\n",
       "Minnesota                699\n",
       "Colorado                 668\n",
       "Alabama                  612\n",
       "Louisiana                608\n",
       "Kentucky                 577\n",
       "South Carolina           561\n",
       "Oklahoma                 552\n",
       "Puerto Rico              489\n",
       "Oregon                   454\n",
       "Connecticut              445\n",
       "Kansas                   440\n",
       "Iowa                     415\n",
       "Arkansas                 363\n",
       "Nevada                   355\n",
       "Mississippi              351\n",
       "Utah                     331\n",
       "New Mexico               287\n",
       "Nebraska                 274\n",
       "West Virginia            265\n",
       "Maine                    190\n",
       "Hawaii                   174\n",
       "Montana                  161\n",
       "New Hampshire            157\n",
       "Idaho                    148\n",
       "Rhode Island             128\n",
       "South Dakota             128\n",
       "North Dakota             110\n",
       "Delaware                 109\n",
       "Alaska                   105\n",
       "District of Columbia      98\n",
       "Vermont                   95\n",
       "Wyoming                   75\n",
       "Name: state, dtype: int64"
      ]
     },
     "execution_count": 11,
     "metadata": {},
     "output_type": "execute_result"
    }
   ],
   "source": [
    "real2['state'].value_counts(dropna = False)"
   ]
  },
  {
   "cell_type": "code",
   "execution_count": 12,
   "id": "90e96a1f",
   "metadata": {},
   "outputs": [
    {
     "data": {
      "text/plain": [
       "California              4193\n",
       "Texas                   2767\n",
       "New York                2565\n",
       "Florida                 2289\n",
       "Pennsylvania            1735\n",
       "Illinois                1593\n",
       "Ohio                    1538\n",
       "Michigan                1463\n",
       "North Carolina          1167\n",
       "Georgia                 1078\n",
       "New Jersey              1009\n",
       "Virginia                1006\n",
       "Washington               806\n",
       "Indiana                  802\n",
       "Arizona                  798\n",
       "Tennessee                792\n",
       "Massachusetts            777\n",
       "Maryland                 764\n",
       "Missouri                 732\n",
       "Wisconsin                732\n",
       "Minnesota                699\n",
       "Colorado                 668\n",
       "Alabama                  612\n",
       "Louisiana                608\n",
       "Kentucky                 577\n",
       "South Carolina           561\n",
       "Oklahoma                 552\n",
       "Oregon                   454\n",
       "Connecticut              445\n",
       "Kansas                   440\n",
       "Iowa                     415\n",
       "Arkansas                 363\n",
       "Nevada                   355\n",
       "Mississippi              351\n",
       "Utah                     331\n",
       "New Mexico               287\n",
       "Nebraska                 274\n",
       "West Virginia            265\n",
       "Maine                    190\n",
       "Hawaii                   174\n",
       "Montana                  161\n",
       "New Hampshire            157\n",
       "Idaho                    148\n",
       "Rhode Island             128\n",
       "South Dakota             128\n",
       "North Dakota             110\n",
       "Delaware                 109\n",
       "Alaska                   105\n",
       "District of Columbia      98\n",
       "Vermont                   95\n",
       "Wyoming                   75\n",
       "Name: state, dtype: int64"
      ]
     },
     "execution_count": 12,
     "metadata": {},
     "output_type": "execute_result"
    }
   ],
   "source": [
    "# Drop rows with Puerto Rico from state column\n",
    "index = real2[real2['state'] == 'Puerto Rico'].index\n",
    "real2.drop(index, inplace = True)\n",
    "real2['state'].value_counts(dropna = False)"
   ]
  },
  {
   "cell_type": "code",
   "execution_count": 13,
   "id": "915458b4",
   "metadata": {},
   "outputs": [],
   "source": [
    "#export the csv\n",
    "real2.to_csv(os.path.join(path, '02 Data', 'Prepared Data', 'real.5.8.22.csv'))"
   ]
  },
  {
   "cell_type": "code",
   "execution_count": null,
   "id": "012bdfd4",
   "metadata": {},
   "outputs": [],
   "source": []
  }
 ],
 "metadata": {
  "kernelspec": {
   "display_name": "Python 3 (ipykernel)",
   "language": "python",
   "name": "python3"
  },
  "language_info": {
   "codemirror_mode": {
    "name": "ipython",
    "version": 3
   },
   "file_extension": ".py",
   "mimetype": "text/x-python",
   "name": "python",
   "nbconvert_exporter": "python",
   "pygments_lexer": "ipython3",
   "version": "3.9.12"
  }
 },
 "nbformat": 4,
 "nbformat_minor": 5
}
